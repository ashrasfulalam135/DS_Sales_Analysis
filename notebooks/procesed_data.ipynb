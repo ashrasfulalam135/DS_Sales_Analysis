{
 "cells": [
  {
   "attachments": {},
   "cell_type": "markdown",
   "metadata": {},
   "source": [
    "import necessary libraries"
   ]
  },
  {
   "cell_type": "code",
   "execution_count": 36,
   "metadata": {},
   "outputs": [],
   "source": [
    "import pandas as pd\n",
    "import os\n",
    "import glob"
   ]
  },
  {
   "attachments": {},
   "cell_type": "markdown",
   "metadata": {},
   "source": [
    "Read all file from the directory"
   ]
  },
  {
   "cell_type": "code",
   "execution_count": 37,
   "metadata": {},
   "outputs": [],
   "source": [
    "raw_file_dir = os.path.join(\"../data/raw/\",\"*.csv\")\n",
    "raw_file_list = glob.glob(raw_file_dir)"
   ]
  },
  {
   "attachments": {},
   "cell_type": "markdown",
   "metadata": {},
   "source": [
    "Marge/concate all the file in one file"
   ]
  },
  {
   "cell_type": "code",
   "execution_count": 38,
   "metadata": {},
   "outputs": [],
   "source": [
    "all_month_data_df = pd.concat(map(pd.read_csv, raw_file_list), ignore_index=True)"
   ]
  },
  {
   "attachments": {},
   "cell_type": "markdown",
   "metadata": {},
   "source": [
    "Cleanup data\n",
    "- Remove nan data"
   ]
  },
  {
   "cell_type": "code",
   "execution_count": 39,
   "metadata": {},
   "outputs": [],
   "source": [
    "# nan_df = all_month_data_df[all_month_data_df.isna().any(axis=1)] #not necessary, it's only for checking how many nan data avilable\n",
    "all_month_data_df = all_month_data_df.dropna()"
   ]
  },
  {
   "attachments": {},
   "cell_type": "markdown",
   "metadata": {},
   "source": [
    "- find 'Or' and delete it"
   ]
  },
  {
   "cell_type": "code",
   "execution_count": 40,
   "metadata": {},
   "outputs": [],
   "source": [
    "all_month_data_df = all_month_data_df[all_month_data_df['Order Date'] != 'Order Date']"
   ]
  },
  {
   "attachments": {},
   "cell_type": "markdown",
   "metadata": {},
   "source": [
    "Change the data type of necessary columns"
   ]
  },
  {
   "cell_type": "code",
   "execution_count": 41,
   "metadata": {},
   "outputs": [
    {
     "name": "stderr",
     "output_type": "stream",
     "text": [
      "/var/folders/tb/cbgtgv815tv_62w83tgc_1f80000gn/T/ipykernel_60127/1725326868.py:2: UserWarning: Could not infer format, so each element will be parsed individually, falling back to `dateutil`. To ensure parsing is consistent and as-expected, please specify a format.\n",
      "  all_month_data_df = all_month_data_df.astype(convert_data_type)\n"
     ]
    }
   ],
   "source": [
    "convert_data_type = {'Quantity Ordered' : int, 'Price Each' : float, 'Order Date' : 'datetime64[ns]'}\n",
    "all_month_data_df = all_month_data_df.astype(convert_data_type)"
   ]
  },
  {
   "attachments": {},
   "cell_type": "markdown",
   "metadata": {},
   "source": [
    "Augment data with additional column \"City\", \"Month\", \"WeekDay\", \"PickHour\", \"Sales\""
   ]
  },
  {
   "cell_type": "code",
   "execution_count": null,
   "metadata": {},
   "outputs": [],
   "source": [
    "def city_with_code(purchase_address):\n",
    "    pa = purchase_address.split(\",\")\n",
    "    ps = pa[2].strip().split(\" \")[0]\n",
    "    return f'{pa[1]} ({ps})'\n",
    "\n",
    "all_month_data_df['City'] = all_month_data_df['Purchase Address'].apply(lambda x: city_with_code(x))\n",
    "all_month_data_df['Month'] = all_month_data_df['Order Date'].dt.month\n",
    "all_month_data_df['WeekDay'] = all_month_data_df['Order Date'].dt.day_name()\n",
    "all_month_data_df['PickHour'] = all_month_data_df['Order Date'].dt.hour\n",
    "all_month_data_df['Sales'] = all_month_data_df['Quantity Ordered'] * all_month_data_df['Price Each']\n",
    "all_month_data_df.to_csv(\"../data/procesed/all_months_processed_data.csv\", index=False)"
   ]
  },
  {
   "cell_type": "code",
   "execution_count": null,
   "metadata": {},
   "outputs": [],
   "source": []
  }
 ],
 "metadata": {
  "kernelspec": {
   "display_name": "Python 3",
   "language": "python",
   "name": "python3"
  },
  "language_info": {
   "codemirror_mode": {
    "name": "ipython",
    "version": 3
   },
   "file_extension": ".py",
   "mimetype": "text/x-python",
   "name": "python",
   "nbconvert_exporter": "python",
   "pygments_lexer": "ipython3",
   "version": "3.9.6"
  },
  "orig_nbformat": 4
 },
 "nbformat": 4,
 "nbformat_minor": 2
}
